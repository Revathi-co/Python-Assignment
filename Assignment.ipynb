{
  "nbformat": 4,
  "nbformat_minor": 0,
  "metadata": {
    "colab": {
      "provenance": [],
      "authorship_tag": "ABX9TyMiUSKynTAKI3hL+RG5ZflH",
      "include_colab_link": true
    },
    "kernelspec": {
      "name": "python3",
      "display_name": "Python 3"
    },
    "language_info": {
      "name": "python"
    }
  },
  "cells": [
    {
      "cell_type": "markdown",
      "metadata": {
        "id": "view-in-github",
        "colab_type": "text"
      },
      "source": [
        "<a href=\"https://colab.research.google.com/github/Revathi-co/Python-Assignment/blob/main/Assignment.ipynb\" target=\"_parent\"><img src=\"https://colab.research.google.com/assets/colab-badge.svg\" alt=\"Open In Colab\"/></a>"
      ]
    },
    {
      "cell_type": "markdown",
      "source": [
        "**Assignment 1: Example of lists, tuples, set, dictionaries and frozenset.**"
      ],
      "metadata": {
        "id": "hRR-MBwoIZ8L"
      }
    },
    {
      "cell_type": "markdown",
      "source": [
        "List Examples"
      ],
      "metadata": {
        "id": "Vy7w-8VSD8ZK"
      }
    },
    {
      "cell_type": "code",
      "source": [
        "list1=[\"Hello\", 10,20,30.5, True, 20]\n",
        "print('The values are',list1)\n",
        "# Index number -> helps to print individual data\n",
        "print(list1[0])\n",
        "print(list1[1])\n",
        "print(list1[2])\n",
        "print(list1[3])\n",
        "print(list1[4])\n",
        "\n",
        "list1[-2]=False\n",
        "print('After updating the value is', list1)\n",
        "\n",
        "# Append\n",
        "list1.append(50)\n",
        "print(\"after appending the values are\", list1)\n",
        "\n",
        "# Insert\n",
        "list1.insert(3,40)\n",
        "print(\"The values are\", list1)\n"
      ],
      "metadata": {
        "colab": {
          "base_uri": "https://localhost:8080/"
        },
        "id": "uiA3JsrdBLg6",
        "outputId": "79f912ec-9d2e-4dc0-8cdd-d06be2e8a448"
      },
      "execution_count": 7,
      "outputs": [
        {
          "output_type": "stream",
          "name": "stdout",
          "text": [
            "The values are ['Hello', 10, 20, 30.5, True, 20]\n",
            "Hello\n",
            "10\n",
            "20\n",
            "30.5\n",
            "True\n",
            "After updating the value is ['Hello', 10, 20, 30.5, False, 20]\n",
            "after appending the values are ['Hello', 10, 20, 30.5, False, 20, 50]\n",
            "The values are ['Hello', 10, 20, 40, 30.5, False, 20, 50]\n"
          ]
        }
      ]
    },
    {
      "cell_type": "code",
      "source": [
        "list2 = [[10,20,30,40],[\"a\",\"b\",\"c\",\"d\"],[1.2,3.5,2.5,4.8]]\n",
        "for l in range(len(list2)):\n",
        "  print(f\"list {l+1} : {list2[l]}\",end=\"\\t\")\n",
        "  print(f\"list type : {type(list2[l][0])}\")\n",
        "\n"
      ],
      "metadata": {
        "colab": {
          "base_uri": "https://localhost:8080/"
        },
        "id": "WaD9SRMfBLdd",
        "outputId": "b027e18a-ffb1-44e6-a9ee-3b604de8d4eb"
      },
      "execution_count": 6,
      "outputs": [
        {
          "output_type": "stream",
          "name": "stdout",
          "text": [
            "list 1 : [10, 20, 30, 40]\tlist type : <class 'int'>\n",
            "list 2 : ['a', 'b', 'c', 'd']\tlist type : <class 'str'>\n",
            "list 3 : [1.2, 3.5, 2.5, 4.8]\tlist type : <class 'float'>\n"
          ]
        }
      ]
    },
    {
      "cell_type": "markdown",
      "source": [
        "Tuple Examples"
      ],
      "metadata": {
        "id": "V9oGUzSYEFVY"
      }
    },
    {
      "cell_type": "code",
      "source": [
        "tuple1 = (10,20,30,40,50)\n",
        "print(tuple1)\n",
        "tuple2 = (\"Revathi's\",\"Message : Hello Everyone\")\n",
        "print(\" \".join(tuple2))"
      ],
      "metadata": {
        "colab": {
          "base_uri": "https://localhost:8080/"
        },
        "id": "rfmB_ThyBLY-",
        "outputId": "55e92c6b-c5fb-41f7-a899-1dbcfa46218a"
      },
      "execution_count": 12,
      "outputs": [
        {
          "output_type": "stream",
          "name": "stdout",
          "text": [
            "(10, 20, 30, 40, 50)\n",
            "Revathi Message : Hello Everyone\n"
          ]
        }
      ]
    },
    {
      "cell_type": "markdown",
      "source": [
        "Dictionary Examples"
      ],
      "metadata": {
        "id": "MpT8GIB0Fz0Y"
      }
    },
    {
      "cell_type": "code",
      "source": [
        "dict1 = {\n",
        "    \"a\":10,\n",
        "    \"b\":20,\n",
        "    \"c\":30,\n",
        "    \"d\":40,\n",
        "    \"e\":50\n",
        "}\n",
        "print(f\"Dictionary keys: {dict1.keys()}\")\n",
        "print(f\"Dictionary values: {dict1.values()}\")"
      ],
      "metadata": {
        "colab": {
          "base_uri": "https://localhost:8080/"
        },
        "id": "T7DviXgmBLVS",
        "outputId": "1a1ed468-6be3-47c0-d330-99221878b7a1"
      },
      "execution_count": 16,
      "outputs": [
        {
          "output_type": "stream",
          "name": "stdout",
          "text": [
            "Dictionary keys: dict_keys(['a', 'b', 'c', 'd', 'e'])\n",
            "Dictionary values: dict_values([10, 20, 30, 40, 50])\n"
          ]
        }
      ]
    },
    {
      "cell_type": "code",
      "source": [
        "dict2 ={\n",
        "    \"Python\": [50],\n",
        "    \"java\": [45],\n",
        "    \"c++\": [50]\n",
        "}\n"
      ],
      "metadata": {
        "id": "SMCnCN2vG_PZ"
      },
      "execution_count": 19,
      "outputs": []
    },
    {
      "cell_type": "code",
      "source": [
        "key = input(\"Enter the Subject:\")\n",
        "value = int(input(\"Enter the Marks:\"))\n",
        "if key in dict2:\n",
        "  dict2[key].append(value)\n",
        "else:\n",
        "  dict2[key]=value\n",
        "print(dict2)"
      ],
      "metadata": {
        "colab": {
          "base_uri": "https://localhost:8080/"
        },
        "id": "3Z3YQl9qG-5Y",
        "outputId": "0dd1d526-4c0f-4530-901a-5d58ffa38b78"
      },
      "execution_count": 20,
      "outputs": [
        {
          "output_type": "stream",
          "name": "stdout",
          "text": [
            "Enter the Subject:Python\n",
            "Enter the Marks:46\n",
            "{'Python': [50, 46], 'java': [45], 'c++': [50]}\n"
          ]
        }
      ]
    },
    {
      "cell_type": "markdown",
      "source": [
        "Set Examples"
      ],
      "metadata": {
        "id": "DwD3r-3kJIvK"
      }
    },
    {
      "cell_type": "code",
      "source": [
        "set1={10,20,30,40,20,60,70,30,10}\n",
        "print(\"The values of set1 is\",set1)\n",
        "\n",
        "set1.add(80)\n",
        "print(set1)"
      ],
      "metadata": {
        "colab": {
          "base_uri": "https://localhost:8080/"
        },
        "id": "0iMrf98KG-qk",
        "outputId": "5ce98dac-a9d8-422f-fc37-b242945909c7"
      },
      "execution_count": 21,
      "outputs": [
        {
          "output_type": "stream",
          "name": "stdout",
          "text": [
            "The values of set1 is {70, 40, 10, 20, 60, 30}\n",
            "{70, 40, 10, 80, 20, 60, 30}\n"
          ]
        }
      ]
    },
    {
      "cell_type": "code",
      "source": [
        "set2 = {10,20,40,50}\n",
        "print(set1|set2)\n",
        "print(set1&set2)"
      ],
      "metadata": {
        "colab": {
          "base_uri": "https://localhost:8080/"
        },
        "id": "ewgSa3QPJoJF",
        "outputId": "bf499b9c-61c1-4b25-803b-a568964b34aa"
      },
      "execution_count": 23,
      "outputs": [
        {
          "output_type": "stream",
          "name": "stdout",
          "text": [
            "{70, 40, 10, 80, 50, 20, 60, 30}\n",
            "{40, 10, 20}\n"
          ]
        }
      ]
    },
    {
      "cell_type": "markdown",
      "source": [
        "**Assignment2: File Modes**"
      ],
      "metadata": {
        "id": "OoFPrex_LyTA"
      }
    },
    {
      "cell_type": "code",
      "source": [
        "f = open(\"text1.txt\", \"r+\")\n",
        "print(f.read())\n",
        "f.write(\"\\n append data\")"
      ],
      "metadata": {
        "colab": {
          "base_uri": "https://localhost:8080/"
        },
        "id": "EGgTJ5FuaJGA",
        "outputId": "c544615f-2d2f-426f-f9a2-d8a5f73fb4c8"
      },
      "execution_count": 59,
      "outputs": [
        {
          "output_type": "stream",
          "name": "stdout",
          "text": [
            "Read and Write (‘r+’): Open the file for reading and writing. \n",
            "The handle is positioned at the beginning of the file. \n",
            "Raises I/O error if the file does not exist.\n",
            " append data\n"
          ]
        },
        {
          "output_type": "execute_result",
          "data": {
            "text/plain": [
              "13"
            ]
          },
          "metadata": {},
          "execution_count": 59
        }
      ]
    },
    {
      "cell_type": "code",
      "source": [
        "f = open(\"text2.txt\", \"r\")\n",
        "f.read()"
      ],
      "metadata": {
        "colab": {
          "base_uri": "https://localhost:8080/",
          "height": 53
        },
        "id": "tSE-H4q9bY-V",
        "outputId": "d82414b5-3ecf-4cdb-c880-7907c409b24c"
      },
      "execution_count": 60,
      "outputs": [
        {
          "output_type": "execute_result",
          "data": {
            "text/plain": [
              "'Write and Read (‘w+’) : Open the file for reading and writing. \\nFor an existing file, data is truncated and over-written.\\n The handle is positioned at the beginning of the file.'"
            ],
            "application/vnd.google.colaboratory.intrinsic+json": {
              "type": "string"
            }
          },
          "metadata": {},
          "execution_count": 60
        }
      ]
    },
    {
      "cell_type": "code",
      "source": [
        "with open(\"text2.txt\",\"w+\") as f:\n",
        "  print(f.write(\" over- writing the text...\"))\n",
        "  f.read()"
      ],
      "metadata": {
        "colab": {
          "base_uri": "https://localhost:8080/"
        },
        "id": "LhUpLB2Sb0dT",
        "outputId": "a5f7b9e3-a1b4-4f1d-d0ba-f09ff0499e73"
      },
      "execution_count": 61,
      "outputs": [
        {
          "output_type": "stream",
          "name": "stdout",
          "text": [
            "26\n"
          ]
        }
      ]
    },
    {
      "cell_type": "code",
      "source": [
        "f = open(\"text2.txt\", \"r\")\n",
        "f.read()"
      ],
      "metadata": {
        "colab": {
          "base_uri": "https://localhost:8080/",
          "height": 36
        },
        "id": "ZS_KfeoOV1At",
        "outputId": "fb0588e3-34f8-4268-f807-a1a92ad5ceb2"
      },
      "execution_count": 62,
      "outputs": [
        {
          "output_type": "execute_result",
          "data": {
            "text/plain": [
              "' over- writing the text...'"
            ],
            "application/vnd.google.colaboratory.intrinsic+json": {
              "type": "string"
            }
          },
          "metadata": {},
          "execution_count": 62
        }
      ]
    },
    {
      "cell_type": "code",
      "source": [
        "f = open(\"text3.txt\", \"a+\")\n",
        "f.write(\"\\n append text using a+\")"
      ],
      "metadata": {
        "colab": {
          "base_uri": "https://localhost:8080/"
        },
        "id": "WmP5ttUMWDoP",
        "outputId": "833a7225-7698-4ddd-e1d4-3af22829b726"
      },
      "execution_count": 65,
      "outputs": [
        {
          "output_type": "execute_result",
          "data": {
            "text/plain": [
              "22"
            ]
          },
          "metadata": {},
          "execution_count": 65
        }
      ]
    },
    {
      "cell_type": "code",
      "source": [
        "f = open(\"text3.txt\", \"r\")\n",
        "f.readlines()"
      ],
      "metadata": {
        "colab": {
          "base_uri": "https://localhost:8080/"
        },
        "id": "M9XIc9rYWDd8",
        "outputId": "b67499fc-da8a-4720-cb34-3c3a9ee8145e"
      },
      "execution_count": 66,
      "outputs": [
        {
          "output_type": "execute_result",
          "data": {
            "text/plain": [
              "['Append and Read (‘a+’) : Open the file for reading and writing. The file is created if it does not exist.\\n',\n",
              " ' The handle is positioned at the end of the file. \\n',\n",
              " ' The data being written will be inserted at the end, after the existing data.\\n',\n",
              " ' append text using a+']"
            ]
          },
          "metadata": {},
          "execution_count": 66
        }
      ]
    },
    {
      "cell_type": "markdown",
      "source": [
        "**Assignment 3**"
      ],
      "metadata": {
        "id": "PtF69Sqwnybi"
      }
    },
    {
      "cell_type": "code",
      "source": [
        "a= int(input(\"Enter the first value:\"))\n",
        "b= int(input(\"Enter the second value:\"))\n",
        "operator = input(\"Enter the operator:\")\n",
        "exp = f\"{a}{operator}{b}\"\n",
        "print(f\"The result of expression {exp} is {eval(exp)}\")\n",
        "sentence= f\"The first value is {a}\\n The second value is {b}\\n The operator is '{operator}'\\n The result of expression {exp} is {eval(exp)}\"\n",
        "with open(\"Result.txt\",\"w\") as file1:\n",
        "  file1.writelines(sentence)\n"
      ],
      "metadata": {
        "colab": {
          "base_uri": "https://localhost:8080/"
        },
        "id": "-2UbrMsyeKXn",
        "outputId": "4f2f75ea-45ed-4b10-cf01-c5cdd141d33d"
      },
      "execution_count": 67,
      "outputs": [
        {
          "output_type": "stream",
          "name": "stdout",
          "text": [
            "Enter the first value:231\n",
            "Enter the second value:245\n",
            "Enter the operator:-\n",
            "The result of expression 231-245 is -14\n"
          ]
        }
      ]
    },
    {
      "cell_type": "markdown",
      "source": [
        "**Assignment4: String Template**"
      ],
      "metadata": {
        "id": "hCv4NpKLYDZh"
      }
    },
    {
      "cell_type": "code",
      "source": [
        "from string import Template\n",
        "  \n",
        "marks ={\n",
        "    \"Python\": 50,\n",
        "    \"java\": 45,\n",
        "    \"c++\": 50\n",
        "}\n",
        "  \n",
        "t = Template('Subject Name: $name,   Marks: $marks')\n",
        "  \n",
        "for key,value in marks.items():\n",
        "     print (t.substitute(name = key, marks = value))"
      ],
      "metadata": {
        "id": "1NhWBHYugD8E",
        "colab": {
          "base_uri": "https://localhost:8080/"
        },
        "outputId": "fc03e0a8-0bb6-4ebb-acc0-d79f6c48ad98"
      },
      "execution_count": 71,
      "outputs": [
        {
          "output_type": "stream",
          "name": "stdout",
          "text": [
            "Subject Name: Python,   Marks: 50\n",
            "Subject Name: java,   Marks: 45\n",
            "Subject Name: c++,   Marks: 50\n"
          ]
        }
      ]
    }
  ]
}